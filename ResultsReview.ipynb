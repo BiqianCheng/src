{
 "cells": [
  {
   "cell_type": "code",
   "execution_count": 1,
   "metadata": {},
   "outputs": [],
   "source": [
    "%load_ext autoreload\n",
    "%autoreload 2"
   ]
  },
  {
   "cell_type": "markdown",
   "metadata": {},
   "source": [
    "# Loading model from checkpoint"
   ]
  },
  {
   "cell_type": "code",
   "execution_count": 2,
   "metadata": {},
   "outputs": [
    {
     "data": {
      "text/plain": [
       "{'dataset_name': 'g2net-gravitational-wave-detection',\n",
       " 'ifos': ['LIGO Hanford', 'LIGO Livingston', 'Virgo'],\n",
       " 'total_datapoints': 560000,\n",
       " 'input_channels': 3,\n",
       " 'seq_len': 4096,\n",
       " 'n_classes': 2,\n",
       " 'z_norm': False,\n",
       " 'highpass': False,\n",
       " 'whiten': False,\n",
       " 'scale': True,\n",
       " 'bandpass': True,\n",
       " 'epochs': 10,\n",
       " 'batch_size': 128,\n",
       " 'num_batches': 100,\n",
       " 'optimizer': 'sgd',\n",
       " 'learning_rate': 0.1,\n",
       " 'lr_scheduler': 'step',\n",
       " 'stop_early': True,\n",
       " 'accumulate_grad_batches': 2,\n",
       " 'layers': [128, 256, 128],\n",
       " 'kernel_sizes': [7, 5, 3],\n",
       " 'batch_norm': False,\n",
       " 'nesterov': True,\n",
       " 'momentum': 0.9,\n",
       " 'weight_decay': 0.0,\n",
       " 'lr_scheduler__step_size': 10,\n",
       " 'lr_scheduler__gamma': 0.1,\n",
       " 'stop_early__monitor': 'val_loss',\n",
       " 'stop_early__mode': 'min',\n",
       " 'stop_early__patience': 10,\n",
       " 'use_gpu': 1,\n",
       " 'model_name': 'FCN',\n",
       " 'sample_size': 12800}"
      ]
     },
     "execution_count": 2,
     "metadata": {},
     "output_type": "execute_result"
    }
   ],
   "source": [
    "RESULTS_DIR = \"/home/rgura001/ML4GWsearch/results/train_20231122/130833\"\n",
    "\n",
    "checkpoint_path = RESULTS_DIR + \"/checkpoints/epoch=4-step=190.ckpt\"\n",
    "\n",
    "import json\n",
    "with open(RESULTS_DIR+\"/run_configs/full_config.json\") as f:\n",
    "    config = json.load(f)\n",
    "config"
   ]
  },
  {
   "cell_type": "markdown",
   "metadata": {},
   "source": [
    "### [WRONG METHOD] Loading weights without specifying the model object"
   ]
  },
  {
   "cell_type": "code",
   "execution_count": 11,
   "metadata": {},
   "outputs": [
    {
     "name": "stdout",
     "output_type": "stream",
     "text": [
      "['epoch',\n",
      " 'global_step',\n",
      " 'pytorch-lightning_version',\n",
      " 'state_dict',\n",
      " 'loops',\n",
      " 'callbacks',\n",
      " 'optimizer_states',\n",
      " 'lr_schedulers',\n",
      " 'hparams_name',\n",
      " 'hyper_parameters']\n"
     ]
    },
    {
     "ename": "RuntimeError",
     "evalue": "Error(s) in loading state_dict for FCNPlus:\n\tMissing key(s) in state_dict: \"backbone.convblock1.0.weight\", \"backbone.convblock1.1.weight\", \"backbone.convblock1.1.bias\", \"backbone.convblock1.1.running_mean\", \"backbone.convblock1.1.running_var\", \"backbone.convblock2.0.weight\", \"backbone.convblock2.1.weight\", \"backbone.convblock2.1.bias\", \"backbone.convblock2.1.running_mean\", \"backbone.convblock2.1.running_var\", \"backbone.convblock3.0.weight\", \"backbone.convblock3.1.weight\", \"backbone.convblock3.1.bias\", \"backbone.convblock3.1.running_mean\", \"backbone.convblock3.1.running_var\", \"head.2.weight\", \"head.2.bias\". \n\tUnexpected key(s) in state_dict: \"model.backbone.convblock1.0.weight\", \"model.backbone.convblock1.1.weight\", \"model.backbone.convblock1.1.bias\", \"model.backbone.convblock1.1.running_mean\", \"model.backbone.convblock1.1.running_var\", \"model.backbone.convblock1.1.num_batches_tracked\", \"model.backbone.convblock2.0.weight\", \"model.backbone.convblock2.1.weight\", \"model.backbone.convblock2.1.bias\", \"model.backbone.convblock2.1.running_mean\", \"model.backbone.convblock2.1.running_var\", \"model.backbone.convblock2.1.num_batches_tracked\", \"model.backbone.convblock3.0.weight\", \"model.backbone.convblock3.1.weight\", \"model.backbone.convblock3.1.bias\", \"model.backbone.convblock3.1.running_mean\", \"model.backbone.convblock3.1.running_var\", \"model.backbone.convblock3.1.num_batches_tracked\", \"model.head.2.weight\", \"model.head.2.bias\". ",
     "output_type": "error",
     "traceback": [
      "\u001b[0;31m---------------------------------------------------------------------------\u001b[0m",
      "\u001b[0;31mRuntimeError\u001b[0m                              Traceback (most recent call last)",
      "\u001b[1;32m/home/rgura001/ML4GWsearch/src/ResultsReview.ipynb Cell 5\u001b[0m line \u001b[0;36m8\n\u001b[1;32m      <a href='vscode-notebook-cell://ssh-remote%2Bcoldbrew/home/rgura001/ML4GWsearch/src/ResultsReview.ipynb#W3sdnNjb2RlLXJlbW90ZQ%3D%3D?line=4'>5</a>\u001b[0m pprint(\u001b[39mlist\u001b[39m(checkpoint\u001b[39m.\u001b[39mkeys()))\n\u001b[1;32m      <a href='vscode-notebook-cell://ssh-remote%2Bcoldbrew/home/rgura001/ML4GWsearch/src/ResultsReview.ipynb#W3sdnNjb2RlLXJlbW90ZQ%3D%3D?line=6'>7</a>\u001b[0m model, lossfn  \u001b[39m=\u001b[39m get_model(config\u001b[39m=\u001b[39mconfig)\n\u001b[0;32m----> <a href='vscode-notebook-cell://ssh-remote%2Bcoldbrew/home/rgura001/ML4GWsearch/src/ResultsReview.ipynb#W3sdnNjb2RlLXJlbW90ZQ%3D%3D?line=7'>8</a>\u001b[0m model\u001b[39m.\u001b[39;49mload_state_dict(checkpoint[\u001b[39m'\u001b[39;49m\u001b[39mstate_dict\u001b[39;49m\u001b[39m'\u001b[39;49m])\n",
      "File \u001b[0;32m~/anaconda3/envs/gwsearchenv/lib/python3.10/site-packages/torch/nn/modules/module.py:2041\u001b[0m, in \u001b[0;36mModule.load_state_dict\u001b[0;34m(self, state_dict, strict)\u001b[0m\n\u001b[1;32m   2036\u001b[0m         error_msgs\u001b[39m.\u001b[39minsert(\n\u001b[1;32m   2037\u001b[0m             \u001b[39m0\u001b[39m, \u001b[39m'\u001b[39m\u001b[39mMissing key(s) in state_dict: \u001b[39m\u001b[39m{}\u001b[39;00m\u001b[39m. \u001b[39m\u001b[39m'\u001b[39m\u001b[39m.\u001b[39mformat(\n\u001b[1;32m   2038\u001b[0m                 \u001b[39m'\u001b[39m\u001b[39m, \u001b[39m\u001b[39m'\u001b[39m\u001b[39m.\u001b[39mjoin(\u001b[39m'\u001b[39m\u001b[39m\"\u001b[39m\u001b[39m{}\u001b[39;00m\u001b[39m\"\u001b[39m\u001b[39m'\u001b[39m\u001b[39m.\u001b[39mformat(k) \u001b[39mfor\u001b[39;00m k \u001b[39min\u001b[39;00m missing_keys)))\n\u001b[1;32m   2040\u001b[0m \u001b[39mif\u001b[39;00m \u001b[39mlen\u001b[39m(error_msgs) \u001b[39m>\u001b[39m \u001b[39m0\u001b[39m:\n\u001b[0;32m-> 2041\u001b[0m     \u001b[39mraise\u001b[39;00m \u001b[39mRuntimeError\u001b[39;00m(\u001b[39m'\u001b[39m\u001b[39mError(s) in loading state_dict for \u001b[39m\u001b[39m{}\u001b[39;00m\u001b[39m:\u001b[39m\u001b[39m\\n\u001b[39;00m\u001b[39m\\t\u001b[39;00m\u001b[39m{}\u001b[39;00m\u001b[39m'\u001b[39m\u001b[39m.\u001b[39mformat(\n\u001b[1;32m   2042\u001b[0m                        \u001b[39mself\u001b[39m\u001b[39m.\u001b[39m\u001b[39m__class__\u001b[39m\u001b[39m.\u001b[39m\u001b[39m__name__\u001b[39m, \u001b[39m\"\u001b[39m\u001b[39m\\n\u001b[39;00m\u001b[39m\\t\u001b[39;00m\u001b[39m\"\u001b[39m\u001b[39m.\u001b[39mjoin(error_msgs)))\n\u001b[1;32m   2043\u001b[0m \u001b[39mreturn\u001b[39;00m _IncompatibleKeys(missing_keys, unexpected_keys)\n",
      "\u001b[0;31mRuntimeError\u001b[0m: Error(s) in loading state_dict for FCNPlus:\n\tMissing key(s) in state_dict: \"backbone.convblock1.0.weight\", \"backbone.convblock1.1.weight\", \"backbone.convblock1.1.bias\", \"backbone.convblock1.1.running_mean\", \"backbone.convblock1.1.running_var\", \"backbone.convblock2.0.weight\", \"backbone.convblock2.1.weight\", \"backbone.convblock2.1.bias\", \"backbone.convblock2.1.running_mean\", \"backbone.convblock2.1.running_var\", \"backbone.convblock3.0.weight\", \"backbone.convblock3.1.weight\", \"backbone.convblock3.1.bias\", \"backbone.convblock3.1.running_mean\", \"backbone.convblock3.1.running_var\", \"head.2.weight\", \"head.2.bias\". \n\tUnexpected key(s) in state_dict: \"model.backbone.convblock1.0.weight\", \"model.backbone.convblock1.1.weight\", \"model.backbone.convblock1.1.bias\", \"model.backbone.convblock1.1.running_mean\", \"model.backbone.convblock1.1.running_var\", \"model.backbone.convblock1.1.num_batches_tracked\", \"model.backbone.convblock2.0.weight\", \"model.backbone.convblock2.1.weight\", \"model.backbone.convblock2.1.bias\", \"model.backbone.convblock2.1.running_mean\", \"model.backbone.convblock2.1.running_var\", \"model.backbone.convblock2.1.num_batches_tracked\", \"model.backbone.convblock3.0.weight\", \"model.backbone.convblock3.1.weight\", \"model.backbone.convblock3.1.bias\", \"model.backbone.convblock3.1.running_mean\", \"model.backbone.convblock3.1.running_var\", \"model.backbone.convblock3.1.num_batches_tracked\", \"model.head.2.weight\", \"model.head.2.bias\". "
     ]
    }
   ],
   "source": [
    "import torch\n",
    "from models.get_model import get_model\n",
    "from pprint import pprint\n",
    "checkpoint = torch.load(checkpoint_path)\n",
    "pprint(list(checkpoint.keys()))\n",
    "\n",
    "model, lossfn  = get_model(config=config)\n",
    "model.load_state_dict(checkpoint['state_dict'])"
   ]
  },
  {
   "cell_type": "markdown",
   "metadata": {},
   "source": [
    "### [CORRECT METHOD] Loading weights using the pytorch lightning module object"
   ]
  },
  {
   "cell_type": "code",
   "execution_count": 4,
   "metadata": {},
   "outputs": [
    {
     "data": {
      "text/plain": [
       "GWDetectionLightningModule(\n",
       "  (model): FCNPlus(\n",
       "    (backbone): _FCNBlockPlus(\n",
       "      (convblock1): ConvBlock(\n",
       "        (0): Conv1d(3, 128, kernel_size=(7,), stride=(1,), padding=(3,), bias=False)\n",
       "        (1): BatchNorm1d(128, eps=1e-05, momentum=0.1, affine=True, track_running_stats=True)\n",
       "        (2): ReLU()\n",
       "      )\n",
       "      (convblock2): ConvBlock(\n",
       "        (0): Conv1d(128, 256, kernel_size=(5,), stride=(1,), padding=(2,), bias=False)\n",
       "        (1): BatchNorm1d(256, eps=1e-05, momentum=0.1, affine=True, track_running_stats=True)\n",
       "        (2): ReLU()\n",
       "      )\n",
       "      (convblock3): ConvBlock(\n",
       "        (0): Conv1d(256, 128, kernel_size=(3,), stride=(1,), padding=(1,), bias=False)\n",
       "        (1): BatchNorm1d(128, eps=1e-05, momentum=0.1, affine=True, track_running_stats=True)\n",
       "        (2): ReLU()\n",
       "      )\n",
       "      (add): Sequential()\n",
       "    )\n",
       "    (head): Sequential(\n",
       "      (0): AdaptiveAvgPool1d(output_size=1)\n",
       "      (1): Squeeze(dim=-1)\n",
       "      (2): Linear(in_features=128, out_features=2, bias=True)\n",
       "    )\n",
       "  )\n",
       "  (metrics): ModuleDict(\n",
       "    (acc): BinaryAccuracy()\n",
       "    (f1): BinaryF1Score()\n",
       "    (auroc): BinaryAUROC()\n",
       "  )\n",
       ")"
      ]
     },
     "execution_count": 4,
     "metadata": {},
     "output_type": "execute_result"
    }
   ],
   "source": [
    "from GWDetectionLightningModule import GWDetectionLightningModule\n",
    "model = GWDetectionLightningModule(config).load_from_checkpoint(checkpoint_path)\n",
    "model.eval() ## Absolutely necessary to do if you want to use the model for inference otherwise you will get wrong results"
   ]
  },
  {
   "cell_type": "code",
   "execution_count": 9,
   "metadata": {},
   "outputs": [
    {
     "name": "stdout",
     "output_type": "stream",
     "text": [
      "{'config': {'accumulate_grad_batches': 2,\n",
      "            'bandpass': True,\n",
      "            'batch_norm': False,\n",
      "            'batch_size': 128,\n",
      "            'dataset_name': 'g2net-gravitational-wave-detection',\n",
      "            'epochs': 10,\n",
      "            'highpass': False,\n",
      "            'ifos': ['LIGO Hanford', 'LIGO Livingston', 'Virgo'],\n",
      "            'input_channels': 3,\n",
      "            'kernel_sizes': [7, 5, 3],\n",
      "            'layers': [128, 256, 128],\n",
      "            'learning_rate': 0.1,\n",
      "            'lr_scheduler': 'step',\n",
      "            'lr_scheduler__gamma': 0.1,\n",
      "            'lr_scheduler__step_size': 10,\n",
      "            'model_name': 'FCN',\n",
      "            'momentum': 0.9,\n",
      "            'n_classes': 2,\n",
      "            'nesterov': True,\n",
      "            'num_batches': 100,\n",
      "            'optimizer': 'sgd',\n",
      "            'sample_size': 12800,\n",
      "            'scale': True,\n",
      "            'seq_len': 4096,\n",
      "            'stop_early': True,\n",
      "            'stop_early__mode': 'min',\n",
      "            'stop_early__monitor': 'val_loss',\n",
      "            'stop_early__patience': 10,\n",
      "            'total_datapoints': 560000,\n",
      "            'use_gpu': 1,\n",
      "            'weight_decay': 0.0,\n",
      "            'whiten': False,\n",
      "            'z_norm': False}}\n"
     ]
    }
   ],
   "source": [
    "from pprint import pprint\n",
    "pprint(dict(model.hparams))"
   ]
  },
  {
   "cell_type": "markdown",
   "metadata": {},
   "source": [
    "# Listing FP samples metadata"
   ]
  },
  {
   "cell_type": "code",
   "execution_count": 2,
   "metadata": {},
   "outputs": [],
   "source": [
    "import pandas as pd"
   ]
  },
  {
   "cell_type": "code",
   "execution_count": null,
   "metadata": {},
   "outputs": [],
   "source": [
    "run_clf = pd.read_csv(\"/data/bchen158/ML4GW/ML4GWsearch/src/results/train_20231202/224821/plots/test_metrics/testset_preds.csv\")\n",
    "count_pred_1 = run_clf[run_clf['prediction'] == 1].shape[0]\n",
    "count_pred_0 = run_clf[run_clf['prediction'] == 0].shape[0]\n",
    "\n",
    "print(f\"Number of samples with label 1: {count_pred_1}\")\n",
    "print(f\"Number of samples with label 0: {count_pred_0}\")"
   ]
  },
  {
   "cell_type": "code",
   "execution_count": 3,
   "metadata": {},
   "outputs": [
    {
     "name": "stdout",
     "output_type": "stream",
     "text": [
      "Number of samples with label 1: 0\n",
      "Number of samples with label 0: 56000\n"
     ]
    }
   ],
   "source": [
    "run_clf = pd.read_csv(\"/data/bchen158/ML4GW/ML4GWsearch/src/results/train_20231202/224821/plots/test_metrics/testset_preds.csv\")\n",
    "count_label_1 = run_clf['label'].sum()\n",
    "count_label_0 = len(run_clf) - count_label_1\n",
    "\n",
    "print(f\"Number of samples with label 1: {count_label_1}\")\n",
    "print(f\"Number of samples with label 0: {count_label_0}\")"
   ]
  },
  {
   "cell_type": "code",
   "execution_count": 3,
   "metadata": {},
   "outputs": [
    {
     "name": "stdout",
     "output_type": "stream",
     "text": [
      "(56000, 5)\n"
     ]
    },
    {
     "data": {
      "text/html": [
       "<div>\n",
       "<style scoped>\n",
       "    .dataframe tbody tr th:only-of-type {\n",
       "        vertical-align: middle;\n",
       "    }\n",
       "\n",
       "    .dataframe tbody tr th {\n",
       "        vertical-align: top;\n",
       "    }\n",
       "\n",
       "    .dataframe thead th {\n",
       "        text-align: right;\n",
       "    }\n",
       "</style>\n",
       "<table border=\"1\" class=\"dataframe\">\n",
       "  <thead>\n",
       "    <tr style=\"text-align: right;\">\n",
       "      <th></th>\n",
       "      <th>id</th>\n",
       "      <th>label</th>\n",
       "      <th>prediction</th>\n",
       "      <th>prediction_proba_0</th>\n",
       "      <th>prediction_proba_1</th>\n",
       "    </tr>\n",
       "  </thead>\n",
       "  <tbody>\n",
       "    <tr>\n",
       "      <th>0</th>\n",
       "      <td>d3f2689122</td>\n",
       "      <td>1</td>\n",
       "      <td>1</td>\n",
       "      <td>-0.699070</td>\n",
       "      <td>0.600289</td>\n",
       "    </tr>\n",
       "    <tr>\n",
       "      <th>1</th>\n",
       "      <td>91d46dc05f</td>\n",
       "      <td>0</td>\n",
       "      <td>0</td>\n",
       "      <td>1.207059</td>\n",
       "      <td>-1.286181</td>\n",
       "    </tr>\n",
       "    <tr>\n",
       "      <th>2</th>\n",
       "      <td>c5037fc763</td>\n",
       "      <td>0</td>\n",
       "      <td>0</td>\n",
       "      <td>1.040363</td>\n",
       "      <td>-1.134061</td>\n",
       "    </tr>\n",
       "    <tr>\n",
       "      <th>3</th>\n",
       "      <td>c60d13040e</td>\n",
       "      <td>1</td>\n",
       "      <td>0</td>\n",
       "      <td>0.297779</td>\n",
       "      <td>-0.376915</td>\n",
       "    </tr>\n",
       "    <tr>\n",
       "      <th>4</th>\n",
       "      <td>12701bd0c3</td>\n",
       "      <td>1</td>\n",
       "      <td>1</td>\n",
       "      <td>-9.217836</td>\n",
       "      <td>8.962153</td>\n",
       "    </tr>\n",
       "  </tbody>\n",
       "</table>\n",
       "</div>"
      ],
      "text/plain": [
       "           id  label  prediction  prediction_proba_0  prediction_proba_1\n",
       "0  d3f2689122      1           1           -0.699070            0.600289\n",
       "1  91d46dc05f      0           0            1.207059           -1.286181\n",
       "2  c5037fc763      0           0            1.040363           -1.134061\n",
       "3  c60d13040e      1           0            0.297779           -0.376915\n",
       "4  12701bd0c3      1           1           -9.217836            8.962153"
      ]
     },
     "execution_count": 3,
     "metadata": {},
     "output_type": "execute_result"
    }
   ],
   "source": [
    "run1_testpreds = pd.read_csv(\"/home/rgura001/ML4GWsearch/results/train_20230904/202204/plots/test_metrics/testset_preds.csv\")\n",
    "print(run1_testpreds.shape)\n",
    "run1_testpreds.head()"
   ]
  },
  {
   "cell_type": "code",
   "execution_count": 4,
   "metadata": {},
   "outputs": [
    {
     "name": "stdout",
     "output_type": "stream",
     "text": [
      "(56000, 5)\n"
     ]
    },
    {
     "data": {
      "text/html": [
       "<div>\n",
       "<style scoped>\n",
       "    .dataframe tbody tr th:only-of-type {\n",
       "        vertical-align: middle;\n",
       "    }\n",
       "\n",
       "    .dataframe tbody tr th {\n",
       "        vertical-align: top;\n",
       "    }\n",
       "\n",
       "    .dataframe thead th {\n",
       "        text-align: right;\n",
       "    }\n",
       "</style>\n",
       "<table border=\"1\" class=\"dataframe\">\n",
       "  <thead>\n",
       "    <tr style=\"text-align: right;\">\n",
       "      <th></th>\n",
       "      <th>id</th>\n",
       "      <th>label</th>\n",
       "      <th>prediction</th>\n",
       "      <th>prediction_proba_0</th>\n",
       "      <th>prediction_proba_1</th>\n",
       "    </tr>\n",
       "  </thead>\n",
       "  <tbody>\n",
       "    <tr>\n",
       "      <th>0</th>\n",
       "      <td>d3f2689122</td>\n",
       "      <td>1</td>\n",
       "      <td>1</td>\n",
       "      <td>-0.074259</td>\n",
       "      <td>0.002105</td>\n",
       "    </tr>\n",
       "    <tr>\n",
       "      <th>1</th>\n",
       "      <td>91d46dc05f</td>\n",
       "      <td>0</td>\n",
       "      <td>0</td>\n",
       "      <td>1.389192</td>\n",
       "      <td>-1.462251</td>\n",
       "    </tr>\n",
       "    <tr>\n",
       "      <th>2</th>\n",
       "      <td>c5037fc763</td>\n",
       "      <td>0</td>\n",
       "      <td>0</td>\n",
       "      <td>0.570620</td>\n",
       "      <td>-0.654549</td>\n",
       "    </tr>\n",
       "    <tr>\n",
       "      <th>3</th>\n",
       "      <td>c60d13040e</td>\n",
       "      <td>1</td>\n",
       "      <td>1</td>\n",
       "      <td>-0.072561</td>\n",
       "      <td>0.000794</td>\n",
       "    </tr>\n",
       "    <tr>\n",
       "      <th>4</th>\n",
       "      <td>12701bd0c3</td>\n",
       "      <td>1</td>\n",
       "      <td>1</td>\n",
       "      <td>-8.310558</td>\n",
       "      <td>8.058495</td>\n",
       "    </tr>\n",
       "  </tbody>\n",
       "</table>\n",
       "</div>"
      ],
      "text/plain": [
       "           id  label  prediction  prediction_proba_0  prediction_proba_1\n",
       "0  d3f2689122      1           1           -0.074259            0.002105\n",
       "1  91d46dc05f      0           0            1.389192           -1.462251\n",
       "2  c5037fc763      0           0            0.570620           -0.654549\n",
       "3  c60d13040e      1           1           -0.072561            0.000794\n",
       "4  12701bd0c3      1           1           -8.310558            8.058495"
      ]
     },
     "execution_count": 4,
     "metadata": {},
     "output_type": "execute_result"
    }
   ],
   "source": [
    "run2_testpreds = pd.read_csv(\"/home/rgura001/ML4GWsearch/results/train_20230904/202148/plots/test_metrics/testset_preds.csv\")\n",
    "print(run2_testpreds.shape)\n",
    "run2_testpreds.head()"
   ]
  },
  {
   "cell_type": "code",
   "execution_count": 5,
   "metadata": {},
   "outputs": [
    {
     "name": "stdout",
     "output_type": "stream",
     "text": [
      "(12917, 5)\n",
      "(12495, 5)\n"
     ]
    },
    {
     "data": {
      "text/plain": [
       "(10696, 9)"
      ]
     },
     "execution_count": 5,
     "metadata": {},
     "output_type": "execute_result"
    }
   ],
   "source": [
    "fn_run1_testpreds = run1_testpreds[(run1_testpreds['label']==1) & (run1_testpreds['prediction']==0)]\n",
    "fn_run2_testpreds = run2_testpreds[(run2_testpreds['label']==1) & (run2_testpreds['prediction']==0)]\n",
    "\n",
    "print(fn_run1_testpreds.shape) \n",
    "print(fn_run2_testpreds.shape)\n",
    "\n",
    "common_fn = pd.merge(fn_run1_testpreds, fn_run2_testpreds, how='inner', on=['id'])\n",
    "common_fn.shape"
   ]
  },
  {
   "cell_type": "code",
   "execution_count": 8,
   "metadata": {},
   "outputs": [
    {
     "name": "stdout",
     "output_type": "stream",
     "text": [
      "(2221, 5)\n",
      "(1799, 5)\n"
     ]
    },
    {
     "data": {
      "text/html": [
       "<div>\n",
       "<style scoped>\n",
       "    .dataframe tbody tr th:only-of-type {\n",
       "        vertical-align: middle;\n",
       "    }\n",
       "\n",
       "    .dataframe tbody tr th {\n",
       "        vertical-align: top;\n",
       "    }\n",
       "\n",
       "    .dataframe thead th {\n",
       "        text-align: right;\n",
       "    }\n",
       "</style>\n",
       "<table border=\"1\" class=\"dataframe\">\n",
       "  <thead>\n",
       "    <tr style=\"text-align: right;\">\n",
       "      <th></th>\n",
       "      <th>id</th>\n",
       "      <th>label</th>\n",
       "      <th>prediction</th>\n",
       "      <th>prediction_proba_0</th>\n",
       "      <th>prediction_proba_1</th>\n",
       "    </tr>\n",
       "  </thead>\n",
       "  <tbody>\n",
       "    <tr>\n",
       "      <th>3</th>\n",
       "      <td>c60d13040e</td>\n",
       "      <td>1</td>\n",
       "      <td>0</td>\n",
       "      <td>0.297779</td>\n",
       "      <td>-0.376915</td>\n",
       "    </tr>\n",
       "    <tr>\n",
       "      <th>50</th>\n",
       "      <td>5126fac4f3</td>\n",
       "      <td>1</td>\n",
       "      <td>0</td>\n",
       "      <td>0.134256</td>\n",
       "      <td>-0.217168</td>\n",
       "    </tr>\n",
       "    <tr>\n",
       "      <th>66</th>\n",
       "      <td>8d70f2bd0e</td>\n",
       "      <td>1</td>\n",
       "      <td>0</td>\n",
       "      <td>0.469865</td>\n",
       "      <td>-0.552170</td>\n",
       "    </tr>\n",
       "    <tr>\n",
       "      <th>68</th>\n",
       "      <td>e43ebd6d60</td>\n",
       "      <td>1</td>\n",
       "      <td>0</td>\n",
       "      <td>-0.029368</td>\n",
       "      <td>-0.066118</td>\n",
       "    </tr>\n",
       "    <tr>\n",
       "      <th>72</th>\n",
       "      <td>46ec4d54a1</td>\n",
       "      <td>1</td>\n",
       "      <td>0</td>\n",
       "      <td>0.082230</td>\n",
       "      <td>-0.165095</td>\n",
       "    </tr>\n",
       "  </tbody>\n",
       "</table>\n",
       "</div>"
      ],
      "text/plain": [
       "            id  label  prediction  prediction_proba_0  prediction_proba_1\n",
       "3   c60d13040e      1           0            0.297779           -0.376915\n",
       "50  5126fac4f3      1           0            0.134256           -0.217168\n",
       "66  8d70f2bd0e      1           0            0.469865           -0.552170\n",
       "68  e43ebd6d60      1           0           -0.029368           -0.066118\n",
       "72  46ec4d54a1      1           0            0.082230           -0.165095"
      ]
     },
     "execution_count": 8,
     "metadata": {},
     "output_type": "execute_result"
    }
   ],
   "source": [
    "fn_exists_in_run1_not_in_run2 = fn_run1_testpreds[~fn_run1_testpreds['id'].isin(common_fn['id'])]\n",
    "print(fn_exists_in_run1_not_in_run2.shape)\n",
    "\n",
    "fn_exists_in_run2_not_in_run1 = fn_run2_testpreds[~fn_run2_testpreds['id'].isin(common_fn['id'])]\n",
    "print(fn_exists_in_run2_not_in_run1.shape)\n",
    "\n",
    "fn_exists_in_run1_not_in_run2.head()"
   ]
  },
  {
   "cell_type": "code",
   "execution_count": null,
   "metadata": {},
   "outputs": [],
   "source": []
  }
 ],
 "metadata": {
  "kernelspec": {
   "display_name": "gwsearchenv",
   "language": "python",
   "name": "python3"
  },
  "language_info": {
   "codemirror_mode": {
    "name": "ipython",
    "version": 3
   },
   "file_extension": ".py",
   "mimetype": "text/x-python",
   "name": "python",
   "nbconvert_exporter": "python",
   "pygments_lexer": "ipython3",
   "version": "3.10.9"
  }
 },
 "nbformat": 4,
 "nbformat_minor": 2
}
